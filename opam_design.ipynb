{
 "cells": [
  {
   "cell_type": "code",
   "execution_count": 149,
   "metadata": {},
   "outputs": [],
   "source": [
    "#codigo para calcular los tamanos del opam two stage PAG 351\n",
    "import numpy as np\n",
    "\n",
    "vdd = 1.8             #voltage input feeding\n",
    "vss = 0                 #voltage in gnd\n",
    "vpp = 2.8               #peak to peak voltage\n",
    "\n",
    "vx = 0.1 * vpp          #voltage node x needs to sustain\n",
    "vout1 = 0.5 * vpp          #voltage node j needs to sustain at vout1\n",
    "P = 1e-3       #Power budget 1mW \n",
    "\n",
    "mu_n = 0.0318614          #mobility V^-1 pmos (sky130) https://web.open-source-silicon.dev/t/423504/hello-what-are-the-standard-values-for-kn-for-nmos-and-kp-fo#3251cabc-ceaa-427e-8b01-5dcbebea7a24\n",
    "mu_p = 0.01            #mobility V^-1 pmos (sky130)\n",
    "\n",
    "eox = 3.9 * 8.854e-12   #Farads/Meter     https://inst.eecs.berkeley.edu/~ee143/fa16/lectures/Lecture13-MOSFET%20Devices.pdf\n",
    "tox = 4.148e-9          #sky130            https://web.open-source-silicon.dev/t/8120582/hi-everyone-what-is-the-t-ox-for-sky130-fd-pr-nfet-01v8#ebac9993-85a9-41a0-b851-f1f526c60349\n",
    "Cox = eox/tox             #gate-oxide capacitance per unit area (sky130)\n",
    "mu_nCox = mu_n * Cox    #mobility for nmos times Oxide capacitance per unit area A/V^2\n",
    "mu_pCox = mu_p * Cox      #mobility for pmos times Oxide capacitance A/V^2\n",
    "\n",
    "L = 0.5       #effective length of transistor micrometers\n",
    "vthn = 0.65           #threshold voltage for nmos [V]\n",
    "vthp = 0.65           #threshold voltage for pmos absolute value[V]\n",
    "\n"
   ]
  },
  {
   "cell_type": "code",
   "execution_count": 150,
   "metadata": {},
   "outputs": [
    {
     "data": {
      "text/plain": [
       "8.32463837994214e-05"
      ]
     },
     "execution_count": 150,
     "metadata": {},
     "output_type": "execute_result"
    }
   ],
   "source": [
    "mu_pCox"
   ]
  },
  {
   "cell_type": "code",
   "execution_count": 151,
   "metadata": {},
   "outputs": [],
   "source": [
    "#Computing voltage overdrives for inner stage\n",
    "\n",
    "v_branch_inner = vdd - vx\n",
    "vod3 = (0.55) * v_branch_inner\n",
    "vod1 = (0.25) * v_branch_inner\n",
    "vod9 = (0.2) * v_branch_inner\n",
    "\n",
    "#computing voltage overdrive for outter stage\n",
    "v_branch_out = vdd - vout1\n",
    "vod5 = (1/4) * v_branch_out\n",
    "vod7 = (3/4) * v_branch_out\n",
    "\n"
   ]
  },
  {
   "cell_type": "code",
   "execution_count": 171,
   "metadata": {},
   "outputs": [
    {
     "data": {
      "text/plain": [
       "0.30400000000000005"
      ]
     },
     "execution_count": 171,
     "metadata": {},
     "output_type": "execute_result"
    }
   ],
   "source": [
    "vod9"
   ]
  },
  {
   "cell_type": "code",
   "execution_count": 153,
   "metadata": {},
   "outputs": [],
   "source": [
    "I = P/vdd           #available current for the whole device\n",
    "I_M1_M8 = ( I )/ 8   #assigning 96% for m1=m8 transiistors\n",
    "I_M9 = I_M1_M8 * 2"
   ]
  },
  {
   "cell_type": "code",
   "execution_count": 154,
   "metadata": {},
   "outputs": [
    {
     "data": {
      "text/plain": [
       "0.0001388888888888889"
      ]
     },
     "execution_count": 154,
     "metadata": {},
     "output_type": "execute_result"
    }
   ],
   "source": [
    "I_M9"
   ]
  },
  {
   "cell_type": "code",
   "execution_count": 155,
   "metadata": {},
   "outputs": [],
   "source": [
    "#Computing vb1 and vb2\n",
    "vb1 = vdd + vss - (vod3 + vthp)\n",
    "vb2 = vdd + vss - (vod5 + vod7 + vthn)"
   ]
  },
  {
   "cell_type": "code",
   "execution_count": 156,
   "metadata": {},
   "outputs": [
    {
     "data": {
      "text/plain": [
       "0.7499999999999998"
      ]
     },
     "execution_count": 156,
     "metadata": {},
     "output_type": "execute_result"
    }
   ],
   "source": [
    "vb2"
   ]
  },
  {
   "cell_type": "code",
   "execution_count": 157,
   "metadata": {},
   "outputs": [],
   "source": [
    "#Computing transistor size\n",
    "def WL(Id, muCox, vod):\n",
    "    S = (2 * Id) / (muCox * (vod**2))\n",
    "    return S\n",
    "\n",
    "S1 = WL(I_M1_M8, mu_nCox, vod1)\n",
    "S3 = WL(I_M1_M8, mu_pCox, vod3)\n",
    "S5 = WL(I_M1_M8, mu_pCox, vod5)\n",
    "S7 = WL(I_M1_M8, mu_nCox, vod7)\n",
    "S9 = WL(I_M9, mu_nCox, vod9)\n",
    "\n"
   ]
  },
  {
   "cell_type": "code",
   "execution_count": 172,
   "metadata": {},
   "outputs": [
    {
     "data": {
      "text/plain": [
       "11.33235315438202"
      ]
     },
     "execution_count": 172,
     "metadata": {},
     "output_type": "execute_result"
    }
   ],
   "source": [
    "S9"
   ]
  },
  {
   "cell_type": "code",
   "execution_count": 159,
   "metadata": {},
   "outputs": [],
   "source": [
    "#Computing size of transistor M10 current mirror\n",
    "RI = 1000\n",
    "S10 = (S9 * vdd) / (RI * I_M9)"
   ]
  },
  {
   "cell_type": "code",
   "execution_count": 173,
   "metadata": {},
   "outputs": [
    {
     "data": {
      "text/plain": [
       "146.86729688079097"
      ]
     },
     "execution_count": 173,
     "metadata": {},
     "output_type": "execute_result"
    }
   ],
   "source": [
    "S10"
   ]
  },
  {
   "cell_type": "code",
   "execution_count": 161,
   "metadata": {},
   "outputs": [],
   "source": [
    "#Computing feedback resistors R1, R2, R3, R4\n",
    "\n",
    "R12 = 2 * vb1/I_M9\n"
   ]
  },
  {
   "cell_type": "code",
   "execution_count": 162,
   "metadata": {},
   "outputs": [
    {
     "data": {
      "text/plain": [
       "4521.599999999998"
      ]
     },
     "execution_count": 162,
     "metadata": {},
     "output_type": "execute_result"
    }
   ],
   "source": [
    "R12"
   ]
  },
  {
   "cell_type": "code",
   "execution_count": 163,
   "metadata": {},
   "outputs": [],
   "source": [
    "#computing gains of each transistor\n",
    "\n",
    "def gm(Id, vod):\n",
    "    gm = 2 * (Id/vod)       #PAG 636 razhavi\n",
    "    return gm\n",
    "\n",
    "gm1 = gm(I_M1_M8, vod1)\n",
    "gm3 = gm(I_M1_M8, vod3)\n",
    "gm5 = gm(I_M1_M8, vod5)\n",
    "gm7 = gm(I_M1_M8, vod7)"
   ]
  },
  {
   "cell_type": "code",
   "execution_count": 164,
   "metadata": {},
   "outputs": [
    {
     "data": {
      "text/plain": [
       "2160.0000000000005"
      ]
     },
     "execution_count": 164,
     "metadata": {},
     "output_type": "execute_result"
    }
   ],
   "source": [
    "1/gm7"
   ]
  },
  {
   "cell_type": "code",
   "execution_count": 165,
   "metadata": {},
   "outputs": [],
   "source": [
    "#computing output resistance for each transistor\n",
    "la_n = 0.1          #[V^-1]\n",
    "la_p = 0.2          #[V^-1]\n",
    "\n",
    "def ro(Id, la):\n",
    "    ro = 1/(la * Id)  #pag32 razhavi\n",
    "    return ro\n",
    "\n",
    "ro_1278 = ro(I_M1_M8, la_n)\n",
    "ro_3456 = ro(I_M1_M8, la_p)"
   ]
  },
  {
   "cell_type": "code",
   "execution_count": 166,
   "metadata": {},
   "outputs": [
    {
     "data": {
      "text/plain": [
       "1169.5906432748532"
      ]
     },
     "execution_count": 166,
     "metadata": {},
     "output_type": "execute_result"
    }
   ],
   "source": [
    "#Computing Gain first stage\n",
    "\n",
    "Av_1 = gm1 * 1/((1/ro_1278) + (1/ro_3456))\n",
    "Av_2 = gm5 * 1/((1/ro_1278) + (1/ro_3456))\n",
    "Av = Av_1 * Av_2\n",
    "\n",
    "Av"
   ]
  },
  {
   "cell_type": "code",
   "execution_count": null,
   "metadata": {},
   "outputs": [],
   "source": []
  }
 ],
 "metadata": {
  "kernelspec": {
   "display_name": "base",
   "language": "python",
   "name": "python3"
  },
  "language_info": {
   "codemirror_mode": {
    "name": "ipython",
    "version": 3
   },
   "file_extension": ".py",
   "mimetype": "text/x-python",
   "name": "python",
   "nbconvert_exporter": "python",
   "pygments_lexer": "ipython3",
   "version": "3.11.6"
  }
 },
 "nbformat": 4,
 "nbformat_minor": 2
}
